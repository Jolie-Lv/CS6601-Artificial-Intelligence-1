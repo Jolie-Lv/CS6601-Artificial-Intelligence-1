{
 "cells": [
  {
   "cell_type": "markdown",
   "metadata": {},
   "source": [
    "---"
   ]
  },
  {
   "cell_type": "markdown",
   "metadata": {},
   "source": [
    "### If you are reading this notebook on the GitHub, please go to [README](./README.md) and follow installation instructions to set everything up locally, it's an interactive notebook and you need a local setup to execute the cells. "
   ]
  },
  {
   "cell_type": "markdown",
   "metadata": {},
   "source": [
    "---"
   ]
  },
  {
   "cell_type": "markdown",
   "metadata": {},
   "source": [
    "# Welcome to Jupyter!\n",
    "\n",
    "In this notebook, you will learn what are the jupyter notebooks, get a refresher on python and learn some basic `git` operations which could be useful in the future assignments. At the end of the notebook you will complete a simple function and make your first submission."
   ]
  },
  {
   "cell_type": "markdown",
   "metadata": {},
   "source": [
    "# Table of contents\n",
    "\n",
    "0. [Verify setup](#setup)\n",
    "1. [What is Jupyter?](#jupyter)\n",
    "2. [Interface and Hotkeys](#interface)\n",
    "3. [Python Refresher](#python)\n",
    "4. [Git Basics](#git)\n",
    "5. [Your first Submission](#submission) **(GRADED!)**\n",
    "6. [Summary](#summary)"
   ]
  },
  {
   "cell_type": "markdown",
   "metadata": {},
   "source": [
    "<a name=\"setup\"/></a> <!-- link used in table of contents -->\n",
    "## Verifying local setup\n",
    "\n",
    "First, let's make sure you have installed correct versions of all of the libraries.\n",
    "\n",
    "Simply run the cell below. You can click on the cell and press `⇧↩` (Shift + Enter) to run it."
   ]
  },
  {
   "cell_type": "code",
   "execution_count": 1,
   "metadata": {
    "scrolled": true
   },
   "outputs": [
    {
     "name": "stdout",
     "output_type": "stream",
     "text": [
      "Your python version is  3.7.4\n",
      "⚠️ Library version conflict\n",
      "(networkx 2.3 (c:\\users\\advait\\miniconda3\\envs\\ai_env\\lib\\site-packages), Requirement.parse('networkx<1.12,>=1.11'), {'pgmpy'})\n"
     ]
    }
   ],
   "source": [
    "%run helpers/verify_config.py"
   ]
  },
  {
   "cell_type": "markdown",
   "metadata": {},
   "source": [
    "If you see any warning/error messages, please make sure you have followed the installation instructions in the [README](./README.md). In case you can't resolve them please check out Piazza thread dedicated to \"Assignment 0\"."
   ]
  },
  {
   "cell_type": "markdown",
   "metadata": {},
   "source": [
    "---"
   ]
  },
  {
   "cell_type": "markdown",
   "metadata": {},
   "source": [
    "<a name=\"jupyter\"/></a> <!-- <-this link used in table of contents -->\n",
    "## What are the jupyter notebooks?"
   ]
  },
  {
   "cell_type": "markdown",
   "metadata": {},
   "source": [
    "![Jupyter Logo](https://jupyter.org/assets/nav_logo.svg)\n",
    "\n",
    "Jupyter notebooks are an interactive tool for iterative development and prototyping. When learning new concepts it is important to be able to look at intermediary results, helpful to be able to take notes in Markdown/LaTeX, and have visualizations, all this is possible to achieve in jupyter notebooks."
   ]
  },
  {
   "cell_type": "markdown",
   "metadata": {},
   "source": [
    "In some of the future assignments, notebooks will be used for guiding you through the assignment completion process. The main purpose of using notebooks is reducing the steep learning curve, and help you get started quickly by walking you through the basic examples, expose you to APIs used in the assignments such that you can focus on the understanding of the concepts rather than digging down the implementation details of unrelated bits of code. Jupyter is also very useful when you are debugging things, since you can easily always check/modify the content of your variables, without rerunning your whole code every single time."
   ]
  },
  {
   "cell_type": "markdown",
   "metadata": {},
   "source": [
    " "
   ]
  },
  {
   "cell_type": "markdown",
   "metadata": {},
   "source": [
    "### Cell types \n",
    "Every jupyter notebook consists of the cells, which can be of a different type. You need to know just two, Markdown and Code, which can be selected in the toolbar above (Cell>Cell Type), by default all new cells have `Code` type."
   ]
  },
  {
   "cell_type": "markdown",
   "metadata": {},
   "source": [
    "In **Markdown** cells you can provide comments, format them, and write LaTeX. This cell you are reading right now is a [Markdown](https://github.com/adam-p/markdown-here/wiki/Markdown-Cheatsheet) cell, to edit it, you can select it and press 'Enter' or just double click it with your mouse. Once done editing it you can press `⇧↩` (Shift + Enter) to render it as Markdown."
   ]
  },
  {
   "cell_type": "markdown",
   "metadata": {},
   "source": [
    "In **Code** cells you can write code, it can be a single or multiple lines, which you can execute pressing `⇧↩` (Shift + Enter)."
   ]
  },
  {
   "cell_type": "markdown",
   "metadata": {},
   "source": [
    " "
   ]
  },
  {
   "cell_type": "markdown",
   "metadata": {},
   "source": [
    "### Basic example\n",
    "\n",
    "Now, let's start with a simple example and do some basic python. Use `⇧↩` (Shift + Enter) to run the cells below, you can either use a mouse to select the cells or arrow keys (you will learn more about how to navigate soon)."
   ]
  },
  {
   "cell_type": "code",
   "execution_count": 2,
   "metadata": {},
   "outputs": [
    {
     "data": {
      "text/plain": [
       "2"
      ]
     },
     "execution_count": 2,
     "metadata": {},
     "output_type": "execute_result"
    }
   ],
   "source": [
    "1+1"
   ]
  },
  {
   "cell_type": "code",
   "execution_count": 3,
   "metadata": {},
   "outputs": [],
   "source": [
    "a = 10"
   ]
  },
  {
   "cell_type": "code",
   "execution_count": 4,
   "metadata": {},
   "outputs": [
    {
     "data": {
      "text/plain": [
       "10"
      ]
     },
     "execution_count": 4,
     "metadata": {},
     "output_type": "execute_result"
    }
   ],
   "source": [
    "a"
   ]
  },
  {
   "cell_type": "code",
   "execution_count": 5,
   "metadata": {},
   "outputs": [
    {
     "data": {
      "text/plain": [
       "15"
      ]
     },
     "execution_count": 5,
     "metadata": {},
     "output_type": "execute_result"
    }
   ],
   "source": [
    "a + 5"
   ]
  },
  {
   "cell_type": "code",
   "execution_count": 6,
   "metadata": {},
   "outputs": [
    {
     "data": {
      "text/plain": [
       "10"
      ]
     },
     "execution_count": 6,
     "metadata": {},
     "output_type": "execute_result"
    }
   ],
   "source": [
    "a"
   ]
  },
  {
   "cell_type": "markdown",
   "metadata": {},
   "source": [
    "you see you don't need to write\n",
    "```python\n",
    "print(a)\n",
    "```\n",
    "executing just the variable will output its value but it only works for the last variable, else you need to use print."
   ]
  },
  {
   "cell_type": "code",
   "execution_count": 7,
   "metadata": {
    "code_folding": []
   },
   "outputs": [
    {
     "data": {
      "text/plain": [
       "3"
      ]
     },
     "execution_count": 7,
     "metadata": {},
     "output_type": "execute_result"
    }
   ],
   "source": [
    "x = 1\n",
    "y = 2\n",
    "z = 3\n",
    "x\n",
    "y\n",
    "z"
   ]
  },
  {
   "cell_type": "code",
   "execution_count": 8,
   "metadata": {},
   "outputs": [
    {
     "name": "stdout",
     "output_type": "stream",
     "text": [
      "1\n",
      "2\n",
      "3\n"
     ]
    }
   ],
   "source": [
    "print(x)\n",
    "print(y)\n",
    "print(z)"
   ]
  },
  {
   "cell_type": "markdown",
   "metadata": {},
   "source": [
    "One important aspect of notebooks to know that the cells could be executed out-of-order, which can be confusing at the beginning. \n",
    "\n",
    "Let's walk through a simple example:"
   ]
  },
  {
   "cell_type": "code",
   "execution_count": 9,
   "metadata": {},
   "outputs": [],
   "source": [
    "# Initialize counter to zero\n",
    "counter = 0"
   ]
  },
  {
   "cell_type": "markdown",
   "metadata": {},
   "source": [
    "Run the `counter += 1` cell multiple times:"
   ]
  },
  {
   "cell_type": "code",
   "execution_count": 10,
   "metadata": {},
   "outputs": [],
   "source": [
    "# Run this cell multiple times\n",
    "counter += 1"
   ]
  },
  {
   "cell_type": "markdown",
   "metadata": {},
   "source": [
    "Let's see what's the counter is now:"
   ]
  },
  {
   "cell_type": "code",
   "execution_count": 11,
   "metadata": {
    "scrolled": true
   },
   "outputs": [
    {
     "data": {
      "text/plain": [
       "1"
      ]
     },
     "execution_count": 11,
     "metadata": {},
     "output_type": "execute_result"
    }
   ],
   "source": [
    "counter"
   ]
  },
  {
   "cell_type": "markdown",
   "metadata": {},
   "source": [
    "It means that the order of cell execution can be different from the order you see them in. And it's not that you necessarily will need to run the cells in some order like backward, it's more that you may want to run several cells over and over again making incremental improvements to your code.\n",
    "It happens sometimes that things get out of control, you might lose track of the variables available or order of cells executed, in these moments you can just save the notebook and restart the kernel. Now let's talk to what does the kernel do, and what saving the notebook means."
   ]
  },
  {
   "cell_type": "markdown",
   "metadata": {},
   "source": [
    " "
   ]
  },
  {
   "cell_type": "markdown",
   "metadata": {},
   "source": [
    "### Kernels\n",
    "\n",
    "Kernel is a computational engine which runs behind the notebook and executes the code. Jupyter supports over 40 programming languages, including Python, R, Julia, and Scala, they can be setup separately and you can switch between different kernels (we won't need to do it in this in this class, we only use Python kernel)."
   ]
  },
  {
   "cell_type": "markdown",
   "metadata": {},
   "source": [
    "In the Kernel tab in the toolbar above you can see multiple commands you can send to the kernel, here are some of them:\n",
    "\n",
    "* **Interrupt** - stops the execution of the code (helpful when you have a long operation but forgot to change some parameter, or in case you have an infinite loop)\n",
    "* **Restart** - clears up all of the variables and releases memory\n",
    "* **Restart & Clear Output** - restarts the kernel + clears all of the cell outputs in the notebook\n",
    "* **Restart & Run All** - restarts the kernel + executes all of the cells"
   ]
  },
  {
   "cell_type": "markdown",
   "metadata": {},
   "source": [
    "It's important to note that kernel state can not be saved, i.e. if you stop/restart the kernel you will need to rerun all of the cells to define the variables. **Restart & Clear Output** would probably be the best option for beginners to use if you want to restart the kernel since else you can confuse yourself seeing the outputs on the cells but not being able to access the variable. "
   ]
  },
  {
   "cell_type": "markdown",
   "metadata": {},
   "source": [
    "For examples, here:\n",
    "\n",
    "<img src=\"./misc/uncleared_cell.png\" alt=\"uncleared_cell\" width=\"700\"/>\n",
    "\n",
    "the first cell with variable declaration was executed before the kernel was restarted, and the second cell was executed after, therefore we still see the output but the variable was not defined. Meaning that in order to access the variable you need to make sure you run the cell that defines it first."
   ]
  },
  {
   "cell_type": "markdown",
   "metadata": {},
   "source": [
    "---"
   ]
  },
  {
   "cell_type": "markdown",
   "metadata": {},
   "source": [
    "### Signatures and Docstrings\n",
    "\n",
    "Here are a couple of other things you can do in jupyter, you will find these particularly handy when you will start working on the assignments and want to learn the signatures, docstrings or source code of certain classes or functions."
   ]
  },
  {
   "cell_type": "markdown",
   "metadata": {},
   "source": [
    "Run next two cells:"
   ]
  },
  {
   "cell_type": "code",
   "execution_count": 12,
   "metadata": {},
   "outputs": [],
   "source": [
    "# Let's define a function\n",
    "def print_something(n_times=2):\n",
    "    \"\"\"This function shows a greeting message!\"\"\"\n",
    "    assert n_times > 0\n",
    "    for _ in range(n_times):\n",
    "        print(\"Hello from Jupyter!\")"
   ]
  },
  {
   "cell_type": "code",
   "execution_count": 13,
   "metadata": {},
   "outputs": [],
   "source": [
    "# Add ? at the end of the function to see it's docstring\n",
    "print_something?"
   ]
  },
  {
   "cell_type": "code",
   "execution_count": 14,
   "metadata": {},
   "outputs": [
    {
     "data": {
      "text/plain": [
       "<function __main__.print_something(n_times=2)>"
      ]
     },
     "execution_count": 14,
     "metadata": {},
     "output_type": "execute_result"
    }
   ],
   "source": [
    "# Same could be achieved if you place the cursor at the end of function name and press ⇧⇥ (Shift + Tab)\n",
    "print_something"
   ]
  },
  {
   "cell_type": "markdown",
   "metadata": {},
   "source": [
    "There are times you might want to look into the source code of the class/function, which can do it by adding `??` after the class/function name."
   ]
  },
  {
   "cell_type": "code",
   "execution_count": 15,
   "metadata": {},
   "outputs": [],
   "source": [
    "print_something??"
   ]
  },
  {
   "cell_type": "markdown",
   "metadata": {},
   "source": [
    "It also works for the classes/functions defined outside the notebook."
   ]
  },
  {
   "cell_type": "code",
   "execution_count": 16,
   "metadata": {},
   "outputs": [],
   "source": [
    "import numpy as np\n",
    "np.ones??"
   ]
  },
  {
   "cell_type": "code",
   "execution_count": 17,
   "metadata": {},
   "outputs": [
    {
     "data": {
      "text/plain": [
       "<function numpy.ones(shape, dtype=None, order='C')>"
      ]
     },
     "execution_count": 17,
     "metadata": {},
     "output_type": "execute_result"
    }
   ],
   "source": [
    "# And placing a cursor on at the and with ⇧⇥⇥ (Shift + Tab + Tab) will show you the docstring\n",
    "np.ones"
   ]
  },
  {
   "cell_type": "markdown",
   "metadata": {},
   "source": [
    "---\n",
    "\n",
    "### Magic commands\n",
    "\n",
    "Jupyter has a number of [magic commands](https://ipython.readthedocs.io/en/stable/interactive/magics.html) you can use (to list all of the magic functions run: `%lsmagic`.). You already used one of them above, it was `%run script_name` - which can be used to run `*.py` scripts inside the notebook, equivalent of ``python script_name`` in the terminal. "
   ]
  },
  {
   "cell_type": "markdown",
   "metadata": {},
   "source": [
    "Let's try out one of the magic commands: `%time` - which measures the execution time of a cell or a statement. It will be useful in the future assignment for example when you are optimizing the execution speed of your code. Here are two way you can use `%time`:\n",
    "\n",
    "* `%time` - to time a single line of code; **OR**\n",
    "* `%%time` - to time the whole cell\n",
    "\n",
    "Here is an example on how to use `%time`:"
   ]
  },
  {
   "cell_type": "code",
   "execution_count": 18,
   "metadata": {},
   "outputs": [],
   "source": [
    "import random"
   ]
  },
  {
   "cell_type": "markdown",
   "metadata": {},
   "source": [
    "Let's create an array of random integers and time it:"
   ]
  },
  {
   "cell_type": "code",
   "execution_count": 19,
   "metadata": {},
   "outputs": [
    {
     "name": "stdout",
     "output_type": "stream",
     "text": [
      "Wall time: 51.9 ms\n"
     ]
    }
   ],
   "source": [
    "%%time \n",
    "# will time whole cell\n",
    "random_intigers = []\n",
    "for _ in range(10000):\n",
    "    random_intigers.append(random.randint(0,100))"
   ]
  },
  {
   "cell_type": "markdown",
   "metadata": {},
   "source": [
    "How about using a list comprehensions instead:"
   ]
  },
  {
   "cell_type": "code",
   "execution_count": 20,
   "metadata": {},
   "outputs": [
    {
     "name": "stdout",
     "output_type": "stream",
     "text": [
      "Wall time: 16 ms\n"
     ]
    }
   ],
   "source": [
    "%time random_intigers = [random.randint(0,100) for _ in range(10000)] # will time only this line"
   ]
  },
  {
   "cell_type": "markdown",
   "metadata": {},
   "source": [
    "Here is another example, where we use `%%time` to compare the pure python vs numpy implementation of scalar multiplication operation on 1D array."
   ]
  },
  {
   "cell_type": "code",
   "execution_count": 21,
   "metadata": {},
   "outputs": [],
   "source": [
    "n_items = 1000000\n",
    "# Create two identical arrays\n",
    "integer_list = list(range(n_items))\n",
    "integer_array = np.arange(n_items)\n",
    "# make sure both 1D arrays are exactly the same\n",
    "assert np.allclose(integer_list, integer_array, rtol=0.0)"
   ]
  },
  {
   "cell_type": "code",
   "execution_count": 22,
   "metadata": {},
   "outputs": [],
   "source": [
    "def scalar_mult_1D(somelist):\n",
    "    # inplace operation\n",
    "    for index, value in enumerate(somelist):\n",
    "        somelist[index] = 2 * value\n",
    "    return somelist"
   ]
  },
  {
   "cell_type": "code",
   "execution_count": 23,
   "metadata": {},
   "outputs": [],
   "source": [
    "def np_scalar_mult_1D(nplist):\n",
    "    return 2*nplist"
   ]
  },
  {
   "cell_type": "code",
   "execution_count": 24,
   "metadata": {},
   "outputs": [
    {
     "name": "stdout",
     "output_type": "stream",
     "text": [
      "109 ms ± 5.09 ms per loop (mean ± std. dev. of 7 runs, 10 loops each)\n"
     ]
    }
   ],
   "source": [
    "%timeit scalar_mult_1D(integer_list)"
   ]
  },
  {
   "cell_type": "code",
   "execution_count": 25,
   "metadata": {},
   "outputs": [
    {
     "name": "stdout",
     "output_type": "stream",
     "text": [
      "2.35 ms ± 154 µs per loop (mean ± std. dev. of 7 runs, 100 loops each)\n"
     ]
    }
   ],
   "source": [
    "%timeit np_scalar_mult_1D(integer_array)"
   ]
  },
  {
   "cell_type": "code",
   "execution_count": 26,
   "metadata": {},
   "outputs": [],
   "source": [
    "integer_list = list(range(n_items))\n",
    "integer_array = np.arange(n_items)\n",
    "integer_list_2x = scalar_mult_1D(integer_list)\n",
    "integer_array_x2 = np_scalar_mult_1D(integer_array)\n",
    "# make sure the resultant arrays are the same\n",
    "assert np.allclose(integer_list, integer_array_x2, rtol=0.0)"
   ]
  },
  {
   "cell_type": "markdown",
   "metadata": {},
   "source": [
    "As you can see for this simple task, python arrays are ~100x slower. You will get to learn more of numpy later in the class, now let's stick to pure python."
   ]
  },
  {
   "cell_type": "markdown",
   "metadata": {},
   "source": [
    "---"
   ]
  },
  {
   "cell_type": "markdown",
   "metadata": {},
   "source": [
    "<a name=\"interface\"/></a> <!-- <-this link used in table of contents -->\n",
    "# Interface and Hotkeys\n",
    "\n",
    "To learn about the interface and more about jupyter notebooks in general the `Help` section in the menu.\n",
    "\n",
    "Here is the TL;DR version of what you should know."
   ]
  },
  {
   "cell_type": "markdown",
   "metadata": {},
   "source": [
    "---\n",
    "## Modal editor\n",
    "\n",
    "There are two modes in the jupyter: edit mode and command mode.\n"
   ]
  },
  {
   "cell_type": "markdown",
   "metadata": {},
   "source": [
    "### Edit\n",
    "Edit mode is indicated by a green cell border and a prompt showing in the editor area:\n",
    "\n",
    "![edit_image.png](https://nbviewer.jupyter.org/github/ipython/ipython/blob/3.x/examples/Notebook/images/edit_mode.png)\n",
    "\n",
    "You can press **Enter** to enter edit mode or click with a mouse in the editable area."
   ]
  },
  {
   "cell_type": "markdown",
   "metadata": {},
   "source": [
    "### Command\n",
    "Command mode is indicated by a grey cell border:\n",
    "\n",
    "![command_image.png](https://nbviewer.jupyter.org/github/ipython/ipython/blob/3.x/examples/Notebook/images/command_mode.png)\n",
    "\n",
    "Use **Esc** to enable command mode or make a mouse click outside the cell.\n",
    "\n",
    "When you are in command mode, you can edit the notebook as a whole, but not type into individual cells. Most importantly, in command mode, the keyboard is mapped to a set of shortcuts that let you perform notebook and cell actions efficiently. For example, if you are in command mode and you press `c`, you will copy the current cell - no modifier is needed.\n"
   ]
  },
  {
   "cell_type": "markdown",
   "metadata": {},
   "source": [
    "## Hotkeys\n",
    "\n",
    "There are a lot of useful hotkeys in jupyter you can see them all in (Help > Keyboard Shortcuts).\n",
    "\n",
    "Here is a list of the ones that will save you the most of your time:\n",
    "\n",
    "* **Shift + Enter** - Run cell + select next cell\n",
    "* **Alt + Enter** - Run cell + insert new cell below\n",
    "\n",
    "Here are keys you can use in the command mode.\n",
    "* **a** - Incert cell above\n",
    "* **b** - Incert cell below\n",
    "* **Shift + Up-Down Arrow key** or **Shift + mouse click cells** - select multiple cells.\n",
    "* **x** - Cut the selected cell(s)\n",
    "* **c** - Copy the selected cell(s)\n",
    "* **v** - Paste the selected cell(s)\n",
    "* **m** - Convert the cell to markdown (after your run the markdown cell, you can double click it to edit)\n",
    "* **y** - Convert the cell back to code"
   ]
  },
  {
   "cell_type": "markdown",
   "metadata": {},
   "source": [
    "<a name=\"python\"/></a> <!-- link used in table of contents -->\n",
    "## Python\n",
    "\n",
    "If you are not at all familiar with Python, start learning! Although you can use any tutorial you like, here are a couple to get you started:\n",
    "* [A beginner’s guide](https://wiki.python.org/moin/BeginnersGuide)\n",
    "* [An interactive track in CodeAcademy](https://www.codecademy.com/learn/learn-python-3)\n",
    "\n",
    "Below is number of cell you can run which will serve you as a Python refresher."
   ]
  },
  {
   "cell_type": "markdown",
   "metadata": {},
   "source": [
    "#### int/float operations"
   ]
  },
  {
   "cell_type": "code",
   "execution_count": 27,
   "metadata": {},
   "outputs": [],
   "source": [
    "some_int = 2\n",
    "some_float = 4."
   ]
  },
  {
   "cell_type": "code",
   "execution_count": 28,
   "metadata": {},
   "outputs": [
    {
     "data": {
      "text/plain": [
       "6.0"
      ]
     },
     "execution_count": 28,
     "metadata": {},
     "output_type": "execute_result"
    }
   ],
   "source": [
    "some_int + some_float"
   ]
  },
  {
   "cell_type": "code",
   "execution_count": 29,
   "metadata": {},
   "outputs": [
    {
     "data": {
      "text/plain": [
       "8.0"
      ]
     },
     "execution_count": 29,
     "metadata": {},
     "output_type": "execute_result"
    }
   ],
   "source": [
    "some_int * some_float"
   ]
  },
  {
   "cell_type": "code",
   "execution_count": 30,
   "metadata": {
    "scrolled": true
   },
   "outputs": [
    {
     "data": {
      "text/plain": [
       "0.5"
      ]
     },
     "execution_count": 30,
     "metadata": {},
     "output_type": "execute_result"
    }
   ],
   "source": [
    "some_int / some_float"
   ]
  },
  {
   "cell_type": "code",
   "execution_count": 31,
   "metadata": {},
   "outputs": [
    {
     "data": {
      "text/plain": [
       "0.5"
      ]
     },
     "execution_count": 31,
     "metadata": {},
     "output_type": "execute_result"
    }
   ],
   "source": [
    "2/4 # int division results in float"
   ]
  },
  {
   "cell_type": "markdown",
   "metadata": {},
   "source": [
    "#### string operations"
   ]
  },
  {
   "cell_type": "code",
   "execution_count": 32,
   "metadata": {},
   "outputs": [],
   "source": [
    "some_string = \"Hello \""
   ]
  },
  {
   "cell_type": "code",
   "execution_count": 33,
   "metadata": {
    "scrolled": true
   },
   "outputs": [
    {
     "data": {
      "text/plain": [
       "'Hello world!'"
      ]
     },
     "execution_count": 33,
     "metadata": {},
     "output_type": "execute_result"
    }
   ],
   "source": [
    "some_string + \"world!\" # you can concatenate strings with + operator"
   ]
  },
  {
   "cell_type": "code",
   "execution_count": 34,
   "metadata": {},
   "outputs": [
    {
     "data": {
      "text/plain": [
       "'Hello '"
      ]
     },
     "execution_count": 34,
     "metadata": {},
     "output_type": "execute_result"
    }
   ],
   "source": [
    "some_string"
   ]
  },
  {
   "cell_type": "code",
   "execution_count": 35,
   "metadata": {},
   "outputs": [
    {
     "data": {
      "text/plain": [
       "'He'"
      ]
     },
     "execution_count": 35,
     "metadata": {},
     "output_type": "execute_result"
    }
   ],
   "source": [
    "some_string[:2]"
   ]
  },
  {
   "cell_type": "code",
   "execution_count": 36,
   "metadata": {},
   "outputs": [
    {
     "data": {
      "text/plain": [
       "'o '"
      ]
     },
     "execution_count": 36,
     "metadata": {},
     "output_type": "execute_result"
    }
   ],
   "source": [
    "some_string[-2:]"
   ]
  },
  {
   "cell_type": "code",
   "execution_count": 37,
   "metadata": {},
   "outputs": [
    {
     "data": {
      "text/plain": [
       "'lo'"
      ]
     },
     "execution_count": 37,
     "metadata": {},
     "output_type": "execute_result"
    }
   ],
   "source": [
    "some_string[-3:-1]"
   ]
  },
  {
   "cell_type": "markdown",
   "metadata": {},
   "source": [
    "#### Array/List operations"
   ]
  },
  {
   "cell_type": "code",
   "execution_count": 38,
   "metadata": {},
   "outputs": [],
   "source": [
    "some_array = [] # new empty array/list"
   ]
  },
  {
   "cell_type": "code",
   "execution_count": 39,
   "metadata": {},
   "outputs": [
    {
     "data": {
      "text/plain": [
       "[]"
      ]
     },
     "execution_count": 39,
     "metadata": {},
     "output_type": "execute_result"
    }
   ],
   "source": [
    "some_array"
   ]
  },
  {
   "cell_type": "code",
   "execution_count": 40,
   "metadata": {},
   "outputs": [],
   "source": [
    "some_array.append(11)\n",
    "some_array.append(12)\n",
    "some_array.append(13)\n",
    "some_array.append(20)"
   ]
  },
  {
   "cell_type": "code",
   "execution_count": 41,
   "metadata": {},
   "outputs": [
    {
     "data": {
      "text/plain": [
       "[11, 12, 13, 20]"
      ]
     },
     "execution_count": 41,
     "metadata": {},
     "output_type": "execute_result"
    }
   ],
   "source": [
    "some_array"
   ]
  },
  {
   "cell_type": "code",
   "execution_count": 42,
   "metadata": {},
   "outputs": [
    {
     "data": {
      "text/plain": [
       "20"
      ]
     },
     "execution_count": 42,
     "metadata": {},
     "output_type": "execute_result"
    }
   ],
   "source": [
    "some_array.pop()"
   ]
  },
  {
   "cell_type": "code",
   "execution_count": 43,
   "metadata": {},
   "outputs": [
    {
     "data": {
      "text/plain": [
       "[11, 12, 13]"
      ]
     },
     "execution_count": 43,
     "metadata": {},
     "output_type": "execute_result"
    }
   ],
   "source": [
    "some_array"
   ]
  },
  {
   "cell_type": "code",
   "execution_count": 44,
   "metadata": {},
   "outputs": [
    {
     "data": {
      "text/plain": [
       "12"
      ]
     },
     "execution_count": 44,
     "metadata": {},
     "output_type": "execute_result"
    }
   ],
   "source": [
    "some_array[1] # indexings starts from 0"
   ]
  },
  {
   "cell_type": "code",
   "execution_count": 45,
   "metadata": {},
   "outputs": [],
   "source": [
    "some_array[1] = 22"
   ]
  },
  {
   "cell_type": "code",
   "execution_count": 46,
   "metadata": {},
   "outputs": [
    {
     "data": {
      "text/plain": [
       "[11, 22, 13]"
      ]
     },
     "execution_count": 46,
     "metadata": {},
     "output_type": "execute_result"
    }
   ],
   "source": [
    "some_array # lists are mutable"
   ]
  },
  {
   "cell_type": "markdown",
   "metadata": {},
   "source": [
    "#### tuples"
   ]
  },
  {
   "cell_type": "code",
   "execution_count": 47,
   "metadata": {},
   "outputs": [],
   "source": [
    "some_tuple = (1,2,3) "
   ]
  },
  {
   "cell_type": "code",
   "execution_count": 48,
   "metadata": {},
   "outputs": [
    {
     "data": {
      "text/plain": [
       "2"
      ]
     },
     "execution_count": 48,
     "metadata": {},
     "output_type": "execute_result"
    }
   ],
   "source": [
    "some_tuple[1]"
   ]
  },
  {
   "cell_type": "code",
   "execution_count": 49,
   "metadata": {},
   "outputs": [
    {
     "ename": "TypeError",
     "evalue": "'tuple' object does not support item assignment",
     "output_type": "error",
     "traceback": [
      "\u001b[1;31m---------------------------------------------------------------------------\u001b[0m",
      "\u001b[1;31mTypeError\u001b[0m                                 Traceback (most recent call last)",
      "\u001b[1;32m<ipython-input-49-f037fcbfbae8>\u001b[0m in \u001b[0;36m<module>\u001b[1;34m\u001b[0m\n\u001b[1;32m----> 1\u001b[1;33m \u001b[0msome_tuple\u001b[0m\u001b[1;33m[\u001b[0m\u001b[1;36m1\u001b[0m\u001b[1;33m]\u001b[0m \u001b[1;33m=\u001b[0m \u001b[1;36m123\u001b[0m \u001b[1;31m# tuples are immutable (you will get an error)\u001b[0m\u001b[1;33m\u001b[0m\u001b[1;33m\u001b[0m\u001b[0m\n\u001b[0m",
      "\u001b[1;31mTypeError\u001b[0m: 'tuple' object does not support item assignment"
     ]
    }
   ],
   "source": [
    "some_tuple[1] = 123 # tuples are immutable (you will get an error)"
   ]
  },
  {
   "cell_type": "code",
   "execution_count": 50,
   "metadata": {},
   "outputs": [
    {
     "data": {
      "text/plain": [
       "(1, 123, 3)"
      ]
     },
     "execution_count": 50,
     "metadata": {},
     "output_type": "execute_result"
    }
   ],
   "source": [
    "# The only way to modify tuple is to convert it to array/list and then back to tuple\n",
    "temp_list = list(some_tuple)\n",
    "temp_list[1] = 123\n",
    "some_tuple = tuple(temp_list)\n",
    "some_tuple"
   ]
  },
  {
   "cell_type": "markdown",
   "metadata": {},
   "source": [
    "#### dictionaries"
   ]
  },
  {
   "cell_type": "code",
   "execution_count": 51,
   "metadata": {},
   "outputs": [
    {
     "data": {
      "text/plain": [
       "{'name': 'Alice', 'age': '21'}"
      ]
     },
     "execution_count": 51,
     "metadata": {},
     "output_type": "execute_result"
    }
   ],
   "source": [
    "some_dict = {}\n",
    "some_dict['name'] = \"Alice\"\n",
    "some_dict['age'] = \"21\"\n",
    "some_dict"
   ]
  },
  {
   "cell_type": "code",
   "execution_count": 52,
   "metadata": {},
   "outputs": [
    {
     "data": {
      "text/plain": [
       "'Alice'"
      ]
     },
     "execution_count": 52,
     "metadata": {},
     "output_type": "execute_result"
    }
   ],
   "source": [
    "some_dict['name']"
   ]
  },
  {
   "cell_type": "code",
   "execution_count": 53,
   "metadata": {},
   "outputs": [
    {
     "data": {
      "text/plain": [
       "dict_keys(['name', 'age'])"
      ]
     },
     "execution_count": 53,
     "metadata": {},
     "output_type": "execute_result"
    }
   ],
   "source": [
    "some_dict.keys()"
   ]
  },
  {
   "cell_type": "code",
   "execution_count": 54,
   "metadata": {},
   "outputs": [
    {
     "data": {
      "text/plain": [
       "dict_values(['Alice', '21'])"
      ]
     },
     "execution_count": 54,
     "metadata": {},
     "output_type": "execute_result"
    }
   ],
   "source": [
    "some_dict.values()"
   ]
  },
  {
   "cell_type": "code",
   "execution_count": 55,
   "metadata": {},
   "outputs": [
    {
     "data": {
      "text/plain": [
       "dict_items([('name', 'Alice'), ('age', '21')])"
      ]
     },
     "execution_count": 55,
     "metadata": {},
     "output_type": "execute_result"
    }
   ],
   "source": [
    "some_dict.items() # you can iterate through these"
   ]
  },
  {
   "cell_type": "code",
   "execution_count": 56,
   "metadata": {},
   "outputs": [
    {
     "name": "stdout",
     "output_type": "stream",
     "text": [
      "name - Alice\n",
      "age - 21\n"
     ]
    }
   ],
   "source": [
    "for key, value in some_dict.items():\n",
    "    print(f\"{key} - {value}\")"
   ]
  },
  {
   "cell_type": "markdown",
   "metadata": {},
   "source": [
    "#### loops"
   ]
  },
  {
   "cell_type": "code",
   "execution_count": 57,
   "metadata": {},
   "outputs": [
    {
     "name": "stdout",
     "output_type": "stream",
     "text": [
      "10\n",
      "20\n",
      "30\n",
      "40\n"
     ]
    }
   ],
   "source": [
    "# For loops\n",
    "for i in [10,20,30,40]:\n",
    "    print(i)"
   ]
  },
  {
   "cell_type": "code",
   "execution_count": 58,
   "metadata": {},
   "outputs": [
    {
     "name": "stdout",
     "output_type": "stream",
     "text": [
      "square of 0 is 0\n",
      "square of 1 is 1\n",
      "square of 2 is 4\n",
      "square of 3 is 9\n",
      "square of 4 is 16\n"
     ]
    }
   ],
   "source": [
    "# More for loops\n",
    "for i in range(5):\n",
    "    print(f\"square of {i} is {i**2}\")"
   ]
  },
  {
   "cell_type": "code",
   "execution_count": 59,
   "metadata": {},
   "outputs": [
    {
     "name": "stdout",
     "output_type": "stream",
     "text": [
      "square of 0 is 0\n",
      "square of 1 is 1\n",
      "square of 2 is 4\n",
      "square of 3 is 9\n",
      "square of 4 is 16\n"
     ]
    }
   ],
   "source": [
    "# While loops\n",
    "i=0\n",
    "while i < 5:\n",
    "    print(f\"square of {i} is {i**2}\")\n",
    "    i+=1"
   ]
  },
  {
   "cell_type": "code",
   "execution_count": 60,
   "metadata": {},
   "outputs": [
    {
     "data": {
      "text/plain": [
       "[0, 1, 8, 27, 64]"
      ]
     },
     "execution_count": 60,
     "metadata": {},
     "output_type": "execute_result"
    }
   ],
   "source": [
    "some_array = []\n",
    "for i in range(5):\n",
    "    some_array.append(i**3)\n",
    "some_array"
   ]
  },
  {
   "cell_type": "markdown",
   "metadata": {},
   "source": [
    "#### list comprehensions"
   ]
  },
  {
   "cell_type": "code",
   "execution_count": 61,
   "metadata": {},
   "outputs": [
    {
     "data": {
      "text/plain": [
       "[0, 1, 8, 27, 64]"
      ]
     },
     "execution_count": 61,
     "metadata": {},
     "output_type": "execute_result"
    }
   ],
   "source": [
    "some_array = [i**3 for i in range(5)]\n",
    "some_array"
   ]
  },
  {
   "cell_type": "code",
   "execution_count": 62,
   "metadata": {},
   "outputs": [
    {
     "data": {
      "text/plain": [
       "[0, 2, 4, 6, 8, 10, 12, 14, 16, 18, 20, 22, 24]"
      ]
     },
     "execution_count": 62,
     "metadata": {},
     "output_type": "execute_result"
    }
   ],
   "source": [
    "even_numbers = [i for i in range(25) if i%2 == 0]\n",
    "even_numbers"
   ]
  },
  {
   "cell_type": "markdown",
   "metadata": {},
   "source": [
    "#### functions"
   ]
  },
  {
   "cell_type": "code",
   "execution_count": 63,
   "metadata": {},
   "outputs": [],
   "source": [
    "def some_function(some_arg):\n",
    "    print(f\"Argument is: {some_arg}\")"
   ]
  },
  {
   "cell_type": "code",
   "execution_count": 64,
   "metadata": {},
   "outputs": [
    {
     "name": "stdout",
     "output_type": "stream",
     "text": [
      "Argument is: 1\n"
     ]
    }
   ],
   "source": [
    "some_function(1)"
   ]
  },
  {
   "cell_type": "code",
   "execution_count": 65,
   "metadata": {},
   "outputs": [],
   "source": [
    "def some_function(some_arg=42): # default values\n",
    "    print(f\"Argument is: {some_arg}\")"
   ]
  },
  {
   "cell_type": "code",
   "execution_count": 66,
   "metadata": {},
   "outputs": [
    {
     "name": "stdout",
     "output_type": "stream",
     "text": [
      "Argument is: 42\n"
     ]
    }
   ],
   "source": [
    "some_function()"
   ]
  },
  {
   "cell_type": "markdown",
   "metadata": {},
   "source": [
    "#### classes"
   ]
  },
  {
   "cell_type": "code",
   "execution_count": 67,
   "metadata": {},
   "outputs": [],
   "source": [
    "class SomeClass():\n",
    "    def __init__(self, a, b):\n",
    "        self.a = a\n",
    "        self.b = b\n",
    "    def get_a(self):\n",
    "        return self.a\n",
    "    def get_b(self):\n",
    "        return self.b"
   ]
  },
  {
   "cell_type": "code",
   "execution_count": 68,
   "metadata": {},
   "outputs": [
    {
     "data": {
      "text/plain": [
       "100"
      ]
     },
     "execution_count": 68,
     "metadata": {},
     "output_type": "execute_result"
    }
   ],
   "source": [
    "my_object = SomeClass(10,100)\n",
    "my_object.get_b()"
   ]
  },
  {
   "cell_type": "markdown",
   "metadata": {},
   "source": [
    "#### function pass by reference"
   ]
  },
  {
   "cell_type": "code",
   "execution_count": 69,
   "metadata": {},
   "outputs": [
    {
     "name": "stdout",
     "output_type": "stream",
     "text": [
      "42\n"
     ]
    }
   ],
   "source": [
    "def some_function():\n",
    "    return 42\n",
    "\n",
    "def print_function_output(fn):\n",
    "    print(fn())\n",
    "\n",
    "print_function_output(some_function) # note that some_function has not executed here"
   ]
  },
  {
   "cell_type": "markdown",
   "metadata": {},
   "source": [
    "#### unpacking"
   ]
  },
  {
   "cell_type": "code",
   "execution_count": 70,
   "metadata": {},
   "outputs": [
    {
     "data": {
      "text/plain": [
       "1"
      ]
     },
     "execution_count": 70,
     "metadata": {},
     "output_type": "execute_result"
    }
   ],
   "source": [
    "# Using asterisk to pack the rest of the output\n",
    "def foo():\n",
    "    return 1,2,3,4,5,6,7\n",
    "\n",
    "a, *_ = foo() # in case you are interested only in the first value returned\n",
    "a"
   ]
  },
  {
   "cell_type": "markdown",
   "metadata": {},
   "source": [
    "#### Nobody is perfect. A few Python quirks"
   ]
  },
  {
   "cell_type": "code",
   "execution_count": 71,
   "metadata": {},
   "outputs": [],
   "source": [
    "def foo(a=[]):\n",
    "    a.append(1)\n",
    "    print(a)"
   ]
  },
  {
   "cell_type": "code",
   "execution_count": 72,
   "metadata": {},
   "outputs": [
    {
     "name": "stdout",
     "output_type": "stream",
     "text": [
      "[1]\n"
     ]
    }
   ],
   "source": [
    "foo()"
   ]
  },
  {
   "cell_type": "code",
   "execution_count": 73,
   "metadata": {},
   "outputs": [
    {
     "name": "stdout",
     "output_type": "stream",
     "text": [
      "[1, 1]\n"
     ]
    }
   ],
   "source": [
    "foo()"
   ]
  },
  {
   "cell_type": "code",
   "execution_count": 74,
   "metadata": {},
   "outputs": [
    {
     "name": "stdout",
     "output_type": "stream",
     "text": [
      "[1, 1, 1]\n"
     ]
    }
   ],
   "source": [
    "foo()"
   ]
  },
  {
   "cell_type": "markdown",
   "metadata": {},
   "source": [
    "For more details and how to avoid it see: [https://docs.python-guide.org/writing/gotchas/](https://docs.python-guide.org/writing/gotchas/)"
   ]
  },
  {
   "cell_type": "markdown",
   "metadata": {},
   "source": [
    "Here is another one:"
   ]
  },
  {
   "cell_type": "code",
   "execution_count": 75,
   "metadata": {},
   "outputs": [
    {
     "name": "stdout",
     "output_type": "stream",
     "text": [
      "999999.9998389754\n"
     ]
    }
   ],
   "source": [
    "a = 0\n",
    "for i in range(10000000):\n",
    "    a += 0.1\n",
    "print(a)"
   ]
  },
  {
   "cell_type": "markdown",
   "metadata": {},
   "source": [
    "The problem is an approximation of 0.1, true decimal value of the binary approximation stored by the machine is:\n",
    "```python\n",
    "> 0.1\n",
    "0.1000000000000000055511151231257827021181583404541015625\n",
    "```\n",
    "which accumulates as you sum up many 0.1s. See: https://docs.python.org/3.4/tutorial/floatingpoint.html"
   ]
  },
  {
   "cell_type": "markdown",
   "metadata": {},
   "source": [
    "And yet another one, that students fall into quite often in the assignments from this class:"
   ]
  },
  {
   "cell_type": "code",
   "execution_count": 76,
   "metadata": {},
   "outputs": [
    {
     "name": "stdout",
     "output_type": "stream",
     "text": [
      "[1, 2, 3]\n",
      "[1, 2, 3]\n"
     ]
    }
   ],
   "source": [
    "a = [1,2]\n",
    "b = a\n",
    "b.append(3)\n",
    "print(a)\n",
    "print(b)"
   ]
  },
  {
   "cell_type": "markdown",
   "metadata": {},
   "source": [
    "The last case happens because the lists/arrays are passed by reference. You can avoid it as following:"
   ]
  },
  {
   "cell_type": "code",
   "execution_count": 77,
   "metadata": {},
   "outputs": [
    {
     "name": "stdout",
     "output_type": "stream",
     "text": [
      "[1, 2]\n",
      "[1, 2, 3]\n"
     ]
    }
   ],
   "source": [
    "import copy\n",
    "a = [1,2]\n",
    "b = copy.copy(a)\n",
    "b.append(3)\n",
    "print(a)\n",
    "print(b)"
   ]
  },
  {
   "cell_type": "markdown",
   "metadata": {},
   "source": [
    "### Debugger\n",
    "\n",
    "You can use debugger inside jupyter, there are two available by default: `%pdb` & `%debug`. We won't be convering those here. There are multiple tutorials available online you can use.\n",
    "* https://davidhamann.de/2017/04/22/debugging-jupyter-notebooks/\n",
    "* https://www.blog.pythonlibrary.org/2018/10/17/jupyter-notebook-debugging/\n",
    "\n",
    "There are also visual third party debugger you can try: \n",
    "* https://www.analyticsvidhya.com/blog/2018/07/pixie-debugger-python-debugging-tool-jupyter-notebooks-data-scientist-must-use/."
   ]
  },
  {
   "cell_type": "markdown",
   "metadata": {},
   "source": [
    "<a name=\"git\"/></a> <!-- <-this link used in table of contents -->\n",
    "## Git  - Keeping your code upto date!\n",
    "\n",
    "After the clone, we recommend creating a branch and do developing on that branch:\n",
    "\n",
    "`git checkout -b develop`\n",
    "\n",
    "(assuming develop is the name of your branch)\n",
    "\n",
    "Should the TAs need to push out an update to the assignment, commit (or stash if you are more comfortable with git) the changes that are unsaved in your repository:\n",
    "\n",
    "`git commit -am \"<some funny message>\"`\n",
    "\n",
    "Then update the master branch from remote:\n",
    "\n",
    "`git pull origin master`\n",
    "\n",
    "This updates your local copy of the master branch. Now try to merge the master branch into your development branch:\n",
    "\n",
    "`git merge master`\n",
    "\n",
    "(assuming that you are on your development branch)\n",
    "\n",
    "There are likely to be merge conflicts during this step. If so, first check what files are in conflict:\n",
    "\n",
    "`git status`\n",
    "\n",
    "The files in conflict are the ones that are \"Not staged for commit\". Open these files using your favourite editor and look for lines containing `<<<<` and `>>>>`. Resolve conflicts as seems best, you can use special software like [Sublime Merge](https://www.sublimemerge.com/) to do so. Once you have resolved all conflicts, stage the files that were in conflict:\n",
    "\n",
    "`git add -A .`\n",
    "\n",
    "Finally, commit the new updates to your branch and continue developing:\n",
    "\n",
    "`git commit -am \"<funny message vilifying TAs for the update>\"`"
   ]
  },
  {
   "cell_type": "markdown",
   "metadata": {},
   "source": [
    "---"
   ]
  },
  {
   "cell_type": "markdown",
   "metadata": {},
   "source": [
    "<a name=\"submission\"/></a> <!-- <-this link used in table of contents -->\n",
    "## First submission"
   ]
  },
  {
   "cell_type": "markdown",
   "metadata": {},
   "source": [
    "In the future assignments, you will implement your code in jupyter notebook. In order for us to automatically grade it the cells with required function bits must have `#export` comment at the top of them. We will soon see an example below.\n",
    "\n",
    "Once you are done with the Assignment you will need to export your submissions. There are two ways you can do it:\n",
    "1. Simply run a cell with the following code\n",
    "```python\n",
    "%run helpers/notebook2script\n",
    "```\n",
    "2. Or run `python helpers/notebook2script.py` from your terminal, while in assignment repo.\n",
    "\n",
    "The script will parse the notebook, extract the cells that contain `#export` comment on top of them and put them into a `submission.py` file. You will need to verify that the file contains all of the functions you were required to implement and simply submit it to Gradescope for grading.\n",
    "\n",
    "Let's walk through an example:"
   ]
  },
  {
   "cell_type": "code",
   "execution_count": 78,
   "metadata": {},
   "outputs": [],
   "source": [
    "#export\n",
    "def return_name():\n",
    "    \"\"\"Returns student name\"\"\"\n",
    "    #TODO return your name as a string\n",
    "    return \"Advait Koparkar\""
   ]
  },
  {
   "cell_type": "code",
   "execution_count": 79,
   "metadata": {},
   "outputs": [
    {
     "name": "stdout",
     "output_type": "stream",
     "text": [
      "Hello Advait Koparkar\n"
     ]
    }
   ],
   "source": [
    "print(f\"Hello {return_name()}\")"
   ]
  },
  {
   "cell_type": "markdown",
   "metadata": {},
   "source": [
    "**Save your notebook!** and run:"
   ]
  },
  {
   "cell_type": "code",
   "execution_count": 80,
   "metadata": {},
   "outputs": [
    {
     "name": "stdout",
     "output_type": "stream",
     "text": [
      "Converted notebook.ipynb to submission.py\n"
     ]
    }
   ],
   "source": [
    "%run helpers/notebook2script"
   ]
  },
  {
   "cell_type": "markdown",
   "metadata": {},
   "source": [
    "Then, run the next cell to see the content of the `submission.py` file. Or simply open it in an editor of your choice."
   ]
  },
  {
   "cell_type": "code",
   "execution_count": null,
   "metadata": {},
   "outputs": [],
   "source": [
    "# %load submission.py\n",
    "\n",
    "#################################################\n",
    "### THIS FILE WAS AUTOGENERATED! DO NOT EDIT! ###\n",
    "#################################################\n",
    "# file to edit: notebook.ipynb\n",
    "\n",
    "def return_name():\n",
    "    \"\"\"Returns student name\"\"\"\n",
    "    #TODO return your name as a string\n",
    "    return \"Advait Koparkar\""
   ]
  },
  {
   "cell_type": "markdown",
   "metadata": {},
   "source": [
    "Now go ahead and submit the `submission.py` file to [Gradescope](https://www.gradescope.com/). It worth **1 point of your Final grade**! ;)"
   ]
  },
  {
   "cell_type": "markdown",
   "metadata": {},
   "source": [
    "---"
   ]
  },
  {
   "cell_type": "markdown",
   "metadata": {},
   "source": [
    "<a name=\"summary\"/></a> <!-- <-this link used in table of contents -->\n",
    "# Summary\n",
    "\n",
    "We highly recommend you to spend some time in this notebook playing around. Especially if you didn't work with jupyter notebooks before, it will save you a lot of time in the future.\n",
    "\n",
    "Here is a list of things to remember:\n",
    "\n",
    "1. Cells in the notebook can be executed in arbitrary order\n",
    "1. It might be healthy to restart a kernel time to time if you are losing track of what you did/didn't execute\n",
    "1. Use **Restart & Clear Output** to restart the kernel\n",
    "1. Feel free to rearrange the cells in notebook since only **.py** files are submitted\n",
    "1. `#export` comments will be included by make sure you will double check autogenerated `submission.py` before submitting."
   ]
  },
  {
   "cell_type": "markdown",
   "metadata": {},
   "source": [
    " "
   ]
  },
  {
   "cell_type": "markdown",
   "metadata": {},
   "source": [
    "# Contribute to the class"
   ]
  },
  {
   "cell_type": "markdown",
   "metadata": {},
   "source": [
    "If you find any typos, have some issues or suggestions on how to improve this or any future assignments please fill free to create a Pull Request or make a Piazza post."
   ]
  },
  {
   "cell_type": "markdown",
   "metadata": {},
   "source": [
    "---\n",
    "<!-- Hi there! -->"
   ]
  }
 ],
 "metadata": {
  "kernelspec": {
   "display_name": "Python 3",
   "language": "python",
   "name": "python3"
  },
  "language_info": {
   "codemirror_mode": {
    "name": "ipython",
    "version": 3
   },
   "file_extension": ".py",
   "mimetype": "text/x-python",
   "name": "python",
   "nbconvert_exporter": "python",
   "pygments_lexer": "ipython3",
   "version": "3.7.4"
  }
 },
 "nbformat": 4,
 "nbformat_minor": 2
}
